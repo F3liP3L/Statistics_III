{
 "cells": [
  {
   "cell_type": "markdown",
   "id": "e0b4b8e5-e45a-4d3c-8e1a-ac9f5662b89e",
   "metadata": {},
   "source": [
    "# Felipe Cardona - Tarea 2 - Regresión"
   ]
  },
  {
   "cell_type": "code",
   "execution_count": null,
   "id": "511a3ee7-9022-434c-b71e-d29b88e44745",
   "metadata": {},
   "outputs": [],
   "source": []
  }
 ],
 "metadata": {
  "kernelspec": {
   "display_name": "Python 3 (ipykernel)",
   "language": "python",
   "name": "python3"
  },
  "language_info": {
   "codemirror_mode": {
    "name": "ipython",
    "version": 3
   },
   "file_extension": ".py",
   "mimetype": "text/x-python",
   "name": "python",
   "nbconvert_exporter": "python",
   "pygments_lexer": "ipython3",
   "version": "3.12.3"
  }
 },
 "nbformat": 4,
 "nbformat_minor": 5
}
